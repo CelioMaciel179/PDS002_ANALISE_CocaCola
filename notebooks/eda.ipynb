{
 "cells": [
  {
   "cell_type": "markdown",
   "id": "5233d694-d841-41b4-b5ea-c0340a8c6bfc",
   "metadata": {
    "jp-MarkdownHeadingCollapsed": true,
    "tags": []
   },
   "source": [
    "# About"
   ]
  },
  {
   "cell_type": "markdown",
   "id": "9d12c313-276a-4b4f-a9a8-04244d03d75f",
   "metadata": {
    "tags": []
   },
   "source": [
    "Here is a description for each column in your dataset:\r\n",
    "\r\n",
    "- **Date**: The date of the trading session, typically formatted as YYYY-MM-DD.\r\n",
    "\r\n",
    "- **Open**: The price at which Coca-Cola's stock began trading at the start of the session.\r\n",
    "\r\n",
    "- **High**: The highest price that Coca-Cola's stock reached during the trading session.\r\n",
    "\r\n",
    "- **Low**: The lowest price that Coca-Cola's stock reached during the trading session.\r\n",
    "\r\n",
    "- **Close**: The price at which Coca-Cola's stock closed at the end of the trading session.\r\n",
    "\r\n",
    "- **Adj Close**: The adjusted close price, which accounts for corporate actions such as dividends and stock splits. This value provides a more accurate reflection of the stock's value.\r\n",
    "\r\n",
    "- **Volume**: The total number of shares traded during the trading session, indicating the level of maket activity.\r\n"
   ]
  },
  {
   "cell_type": "markdown",
   "id": "4dab8762-66ff-453d-ad3f-3c3cb89dcccc",
   "metadata": {
    "tags": []
   },
   "source": [
    "# Imports"
   ]
  },
  {
   "cell_type": "code",
   "execution_count": 1,
   "id": "8600bd14-72ba-475e-8e65-52656a3f4442",
   "metadata": {
    "tags": []
   },
   "outputs": [],
   "source": [
    "import pandas as pd\n",
    "import numpy as np\n",
    "import matplotlib.pyplot as plt\n",
    "import seaborn as sns\n",
    "import warnings\n",
    "warnings.filterwarnings('ignore')"
   ]
  },
  {
   "cell_type": "markdown",
   "id": "35b90c22-79b7-4d80-9e6e-34f522ac4293",
   "metadata": {
    "jp-MarkdownHeadingCollapsed": true
   },
   "source": [
    "# Overview"
   ]
  },
  {
   "cell_type": "code",
   "execution_count": 2,
   "id": "ae76f157-4fe1-4299-bee1-8c2fd60e8bac",
   "metadata": {
    "tags": []
   },
   "outputs": [],
   "source": [
    "df = pd.read_csv('https://raw.githubusercontent.com/CelioMaciel179/PDS002_ANALISE_CocaCola/main/datasets/Coca%20Cola.csv')"
   ]
  },
  {
   "cell_type": "code",
   "execution_count": 3,
   "id": "807a4993-3025-4f0b-b40f-4b64e5725ba8",
   "metadata": {
    "tags": []
   },
   "outputs": [
    {
     "data": {
      "text/html": [
       "<div>\n",
       "<style scoped>\n",
       "    .dataframe tbody tr th:only-of-type {\n",
       "        vertical-align: middle;\n",
       "    }\n",
       "\n",
       "    .dataframe tbody tr th {\n",
       "        vertical-align: top;\n",
       "    }\n",
       "\n",
       "    .dataframe thead th {\n",
       "        text-align: right;\n",
       "    }\n",
       "</style>\n",
       "<table border=\"1\" class=\"dataframe\">\n",
       "  <thead>\n",
       "    <tr style=\"text-align: right;\">\n",
       "      <th></th>\n",
       "      <th>Date</th>\n",
       "      <th>Open</th>\n",
       "      <th>High</th>\n",
       "      <th>Low</th>\n",
       "      <th>Close</th>\n",
       "      <th>Adj Close</th>\n",
       "      <th>Volume</th>\n",
       "    </tr>\n",
       "  </thead>\n",
       "  <tbody>\n",
       "    <tr>\n",
       "      <th>0</th>\n",
       "      <td>2019-01-02</td>\n",
       "      <td>46.939999</td>\n",
       "      <td>47.220001</td>\n",
       "      <td>46.560001</td>\n",
       "      <td>46.930000</td>\n",
       "      <td>39.828789</td>\n",
       "      <td>11603700</td>\n",
       "    </tr>\n",
       "    <tr>\n",
       "      <th>1</th>\n",
       "      <td>2019-01-03</td>\n",
       "      <td>46.820000</td>\n",
       "      <td>47.369999</td>\n",
       "      <td>46.529999</td>\n",
       "      <td>46.639999</td>\n",
       "      <td>39.582672</td>\n",
       "      <td>14714400</td>\n",
       "    </tr>\n",
       "    <tr>\n",
       "      <th>2</th>\n",
       "      <td>2019-01-04</td>\n",
       "      <td>46.750000</td>\n",
       "      <td>47.570000</td>\n",
       "      <td>46.639999</td>\n",
       "      <td>47.570000</td>\n",
       "      <td>40.371952</td>\n",
       "      <td>13013700</td>\n",
       "    </tr>\n",
       "    <tr>\n",
       "      <th>3</th>\n",
       "      <td>2019-01-07</td>\n",
       "      <td>47.570000</td>\n",
       "      <td>47.750000</td>\n",
       "      <td>46.900002</td>\n",
       "      <td>46.950001</td>\n",
       "      <td>39.845768</td>\n",
       "      <td>13135500</td>\n",
       "    </tr>\n",
       "    <tr>\n",
       "      <th>4</th>\n",
       "      <td>2019-01-08</td>\n",
       "      <td>47.250000</td>\n",
       "      <td>47.570000</td>\n",
       "      <td>47.040001</td>\n",
       "      <td>47.480000</td>\n",
       "      <td>40.295567</td>\n",
       "      <td>15420700</td>\n",
       "    </tr>\n",
       "  </tbody>\n",
       "</table>\n",
       "</div>"
      ],
      "text/plain": [
       "         Date       Open       High        Low      Close  Adj Close    Volume\n",
       "0  2019-01-02  46.939999  47.220001  46.560001  46.930000  39.828789  11603700\n",
       "1  2019-01-03  46.820000  47.369999  46.529999  46.639999  39.582672  14714400\n",
       "2  2019-01-04  46.750000  47.570000  46.639999  47.570000  40.371952  13013700\n",
       "3  2019-01-07  47.570000  47.750000  46.900002  46.950001  39.845768  13135500\n",
       "4  2019-01-08  47.250000  47.570000  47.040001  47.480000  40.295567  15420700"
      ]
     },
     "execution_count": 3,
     "metadata": {},
     "output_type": "execute_result"
    }
   ],
   "source": [
    "df.head()"
   ]
  },
  {
   "cell_type": "code",
   "execution_count": 4,
   "id": "b8cb52b3-e4a1-41ac-86f2-14a789a588ff",
   "metadata": {},
   "outputs": [
    {
     "data": {
      "text/plain": [
       "(1258, 7)"
      ]
     },
     "execution_count": 4,
     "metadata": {},
     "output_type": "execute_result"
    }
   ],
   "source": [
    "df.shape"
   ]
  },
  {
   "cell_type": "code",
   "execution_count": 5,
   "id": "079cd2e8-3083-4975-b631-40ba8f8ba6ea",
   "metadata": {},
   "outputs": [
    {
     "name": "stdout",
     "output_type": "stream",
     "text": [
      "<class 'pandas.core.frame.DataFrame'>\n",
      "RangeIndex: 1258 entries, 0 to 1257\n",
      "Data columns (total 7 columns):\n",
      " #   Column     Non-Null Count  Dtype  \n",
      "---  ------     --------------  -----  \n",
      " 0   Date       1258 non-null   object \n",
      " 1   Open       1258 non-null   float64\n",
      " 2   High       1258 non-null   float64\n",
      " 3   Low        1258 non-null   float64\n",
      " 4   Close      1258 non-null   float64\n",
      " 5   Adj Close  1258 non-null   float64\n",
      " 6   Volume     1258 non-null   int64  \n",
      "dtypes: float64(5), int64(1), object(1)\n",
      "memory usage: 68.9+ KB\n"
     ]
    }
   ],
   "source": [
    "df.info()"
   ]
  },
  {
   "cell_type": "markdown",
   "id": "9c4e1ff3-ea75-4417-b230-c91810b2c937",
   "metadata": {
    "jp-MarkdownHeadingCollapsed": true
   },
   "source": [
    "# Preparation"
   ]
  },
  {
   "cell_type": "code",
   "execution_count": 6,
   "id": "c2872607-6619-4e97-8e33-097b85b02649",
   "metadata": {
    "tags": []
   },
   "outputs": [
    {
     "data": {
      "text/plain": [
       "Date         0\n",
       "Open         0\n",
       "High         0\n",
       "Low          0\n",
       "Close        0\n",
       "Adj Close    0\n",
       "Volume       0\n",
       "dtype: int64"
      ]
     },
     "execution_count": 6,
     "metadata": {},
     "output_type": "execute_result"
    }
   ],
   "source": [
    "# checking null values\n",
    "df.isnull().sum()"
   ]
  },
  {
   "cell_type": "code",
   "execution_count": 7,
   "id": "5baf2bde-3d7d-44d0-97ca-6d1458d7ccd2",
   "metadata": {
    "tags": []
   },
   "outputs": [
    {
     "data": {
      "text/plain": [
       "0"
      ]
     },
     "execution_count": 7,
     "metadata": {},
     "output_type": "execute_result"
    }
   ],
   "source": [
    "# Checking duplicates values\n",
    "df.duplicated().sum()"
   ]
  },
  {
   "cell_type": "code",
   "execution_count": 8,
   "id": "c042ea99-06dd-4284-b991-f267e0a4a889",
   "metadata": {},
   "outputs": [],
   "source": [
    "# Convert to datetime\n",
    "df['Date'] = pd.to_datetime(df['Date'])"
   ]
  },
  {
   "cell_type": "code",
   "execution_count": 9,
   "id": "045c764a-9fd8-4b7f-92c3-6c16009fafd0",
   "metadata": {},
   "outputs": [],
   "source": [
    "# Set palette\n",
    "coca_cola_palette = {\n",
    "    'red': '#DA291C',\n",
    "    'white': '#FFFFFF',\n",
    "    'black': '#000000'\n",
    "}\n",
    "sns.set_palette(coca_cola_palette)"
   ]
  },
  {
   "cell_type": "markdown",
   "id": "5c0f2f89-f657-4d71-b1f8-64803e5a92d0",
   "metadata": {
    "jp-MarkdownHeadingCollapsed": true
   },
   "source": [
    "# Statistical summary"
   ]
  },
  {
   "cell_type": "code",
   "execution_count": 10,
   "id": "2d203a1a-438f-4834-8b12-a12cb7458168",
   "metadata": {
    "tags": []
   },
   "outputs": [
    {
     "data": {
      "text/html": [
       "<div>\n",
       "<style scoped>\n",
       "    .dataframe tbody tr th:only-of-type {\n",
       "        vertical-align: middle;\n",
       "    }\n",
       "\n",
       "    .dataframe tbody tr th {\n",
       "        vertical-align: top;\n",
       "    }\n",
       "\n",
       "    .dataframe thead th {\n",
       "        text-align: right;\n",
       "    }\n",
       "</style>\n",
       "<table border=\"1\" class=\"dataframe\">\n",
       "  <thead>\n",
       "    <tr style=\"text-align: right;\">\n",
       "      <th></th>\n",
       "      <th>Date</th>\n",
       "      <th>Open</th>\n",
       "      <th>High</th>\n",
       "      <th>Low</th>\n",
       "      <th>Close</th>\n",
       "      <th>Adj Close</th>\n",
       "      <th>Volume</th>\n",
       "    </tr>\n",
       "  </thead>\n",
       "  <tbody>\n",
       "    <tr>\n",
       "      <th>count</th>\n",
       "      <td>1258</td>\n",
       "      <td>1258.000000</td>\n",
       "      <td>1258.000000</td>\n",
       "      <td>1258.000000</td>\n",
       "      <td>1258.000000</td>\n",
       "      <td>1258.000000</td>\n",
       "      <td>1.258000e+03</td>\n",
       "    </tr>\n",
       "    <tr>\n",
       "      <th>mean</th>\n",
       "      <td>2021-06-30 18:48:38.918918912</td>\n",
       "      <td>55.284014</td>\n",
       "      <td>55.685572</td>\n",
       "      <td>54.846208</td>\n",
       "      <td>55.266399</td>\n",
       "      <td>50.890645</td>\n",
       "      <td>1.509419e+07</td>\n",
       "    </tr>\n",
       "    <tr>\n",
       "      <th>min</th>\n",
       "      <td>2019-01-02 00:00:00</td>\n",
       "      <td>38.759998</td>\n",
       "      <td>38.889999</td>\n",
       "      <td>36.270000</td>\n",
       "      <td>37.560001</td>\n",
       "      <td>33.175083</td>\n",
       "      <td>3.265500e+06</td>\n",
       "    </tr>\n",
       "    <tr>\n",
       "      <th>25%</th>\n",
       "      <td>2020-04-01 06:00:00</td>\n",
       "      <td>50.975001</td>\n",
       "      <td>51.315000</td>\n",
       "      <td>50.470001</td>\n",
       "      <td>50.862500</td>\n",
       "      <td>45.064361</td>\n",
       "      <td>1.094472e+07</td>\n",
       "    </tr>\n",
       "    <tr>\n",
       "      <th>50%</th>\n",
       "      <td>2021-06-30 12:00:00</td>\n",
       "      <td>55.004999</td>\n",
       "      <td>55.365000</td>\n",
       "      <td>54.754999</td>\n",
       "      <td>55.025000</td>\n",
       "      <td>50.465061</td>\n",
       "      <td>1.366025e+07</td>\n",
       "    </tr>\n",
       "    <tr>\n",
       "      <th>75%</th>\n",
       "      <td>2022-09-28 18:00:00</td>\n",
       "      <td>60.200001</td>\n",
       "      <td>60.630001</td>\n",
       "      <td>59.747500</td>\n",
       "      <td>60.227500</td>\n",
       "      <td>57.792684</td>\n",
       "      <td>1.717058e+07</td>\n",
       "    </tr>\n",
       "    <tr>\n",
       "      <th>max</th>\n",
       "      <td>2023-12-29 00:00:00</td>\n",
       "      <td>67.000000</td>\n",
       "      <td>67.199997</td>\n",
       "      <td>65.720001</td>\n",
       "      <td>66.209999</td>\n",
       "      <td>62.319378</td>\n",
       "      <td>6.784570e+07</td>\n",
       "    </tr>\n",
       "    <tr>\n",
       "      <th>std</th>\n",
       "      <td>NaN</td>\n",
       "      <td>5.686688</td>\n",
       "      <td>5.681123</td>\n",
       "      <td>5.703617</td>\n",
       "      <td>5.709911</td>\n",
       "      <td>7.065449</td>\n",
       "      <td>6.928657e+06</td>\n",
       "    </tr>\n",
       "  </tbody>\n",
       "</table>\n",
       "</div>"
      ],
      "text/plain": [
       "                                Date         Open         High          Low  \\\n",
       "count                           1258  1258.000000  1258.000000  1258.000000   \n",
       "mean   2021-06-30 18:48:38.918918912    55.284014    55.685572    54.846208   \n",
       "min              2019-01-02 00:00:00    38.759998    38.889999    36.270000   \n",
       "25%              2020-04-01 06:00:00    50.975001    51.315000    50.470001   \n",
       "50%              2021-06-30 12:00:00    55.004999    55.365000    54.754999   \n",
       "75%              2022-09-28 18:00:00    60.200001    60.630001    59.747500   \n",
       "max              2023-12-29 00:00:00    67.000000    67.199997    65.720001   \n",
       "std                              NaN     5.686688     5.681123     5.703617   \n",
       "\n",
       "             Close    Adj Close        Volume  \n",
       "count  1258.000000  1258.000000  1.258000e+03  \n",
       "mean     55.266399    50.890645  1.509419e+07  \n",
       "min      37.560001    33.175083  3.265500e+06  \n",
       "25%      50.862500    45.064361  1.094472e+07  \n",
       "50%      55.025000    50.465061  1.366025e+07  \n",
       "75%      60.227500    57.792684  1.717058e+07  \n",
       "max      66.209999    62.319378  6.784570e+07  \n",
       "std       5.709911     7.065449  6.928657e+06  "
      ]
     },
     "execution_count": 10,
     "metadata": {},
     "output_type": "execute_result"
    }
   ],
   "source": [
    "df.describe()"
   ]
  },
  {
   "cell_type": "markdown",
   "id": "284213d8-0a5e-4d3d-9df4-d0b0753a68a9",
   "metadata": {
    "jp-MarkdownHeadingCollapsed": true
   },
   "source": [
    "# Distribution Analysis"
   ]
  },
  {
   "cell_type": "code",
   "execution_count": 11,
   "id": "54126049-5673-446f-8cdb-0ad65fe2d0e1",
   "metadata": {},
   "outputs": [],
   "source": [
    "n = df.shape[0]\n",
    "\n",
    "# Calculate the number of bins using Sturges' rule\n",
    "bins = int(np.ceil(np.log2(n) + 1))"
   ]
  },
  {
   "cell_type": "code",
   "execution_count": null,
   "id": "b1ad4c17-ebed-4f2c-8b29-85e5ab1f8122",
   "metadata": {},
   "outputs": [],
   "source": [
    "fig, axs = plt.subplots(3, 2, figsize=(14, 14))\n",
    "\n",
    "sns.histplot(df['Open'], bins=bins, kde=True, ax=axs[0, 0], color=coca_cola_palette['red'])\n",
    "axs[0, 0].set_title('Distribution of Opening Prices')\n",
    "\n",
    "sns.histplot(df['High'], bins=bins, kde=True, ax=axs[0, 1], color=coca_cola_palette['red'])\n",
    "axs[0, 1].set_title('Distribution of Highest Prices')\n",
    "\n",
    "sns.histplot(df['Low'], bins=bins, kde=True, ax=axs[1, 0], color=coca_cola_palette['red'])\n",
    "axs[1, 0].set_title('Distribution of Lowest Prices')\n",
    "\n",
    "sns.histplot(df['Close'], bins=bins, kde=True, ax=axs[1, 1], color=coca_cola_palette['red'])\n",
    "axs[1, 1].set_title('Distribution of Closing Prices')\n",
    "\n",
    "sns.histplot(df['Adj Close'], bins=bins, kde=True, ax=axs[2, 0], color=coca_cola_palette['red'])\n",
    "axs[2, 0].set_title('Distribution of Adjusted Closing Prices')\n",
    "\n",
    "sns.histplot(df['Volume'], bins=bins, kde=True, ax=axs[2, 1], color=coca_cola_palette['red'])\n",
    "axs[2, 1].set_title('Distribution of Trading Volumes')\n",
    "\n",
    "plt.tight_layout()\n",
    "plt.show()"
   ]
  },
  {
   "cell_type": "markdown",
   "id": "debac682-19a7-4a24-9d82-774d3004df47",
   "metadata": {
    "jp-MarkdownHeadingCollapsed": true
   },
   "source": [
    "# Relationship Analysis"
   ]
  },
  {
   "cell_type": "code",
   "execution_count": null,
   "id": "33186dde-824a-4904-ad85-fee94c79d846",
   "metadata": {},
   "outputs": [],
   "source": [
    "columns = ['Open', 'High', 'Low', 'Close', 'Adj Close', 'Volume']\n",
    "\n",
    "sns.pairplot(df[columns], diag_kind='kde', plot_kws={'alpha':0.5})\n",
    "\n",
    "plt.suptitle('Pairplot of Stock Prices', y=1.02) \n",
    "\n",
    "plt.show()"
   ]
  },
  {
   "cell_type": "markdown",
   "id": "d6aece40-4da7-4891-b7d1-840631096575",
   "metadata": {
    "jp-MarkdownHeadingCollapsed": true,
    "tags": []
   },
   "source": [
    "# Correlation Analysis"
   ]
  },
  {
   "cell_type": "code",
   "execution_count": null,
   "id": "59e7f57e-cf96-4d4a-a20c-868fe8f6eff9",
   "metadata": {
    "tags": []
   },
   "outputs": [],
   "source": [
    "correlation_matrix = df.corr()\n",
    "\n",
    "plt.figure(figsize=(10, 8))\n",
    "sns.heatmap(correlation_matrix, annot=True, cmap='coolwarm')\n",
    "plt.title('Matriz de Correlação')\n",
    "plt.show()"
   ]
  },
  {
   "cell_type": "markdown",
   "id": "fb650275-b4c0-445e-9562-b7326595d3dc",
   "metadata": {
    "jp-MarkdownHeadingCollapsed": true
   },
   "source": [
    "# Outlier Analysis"
   ]
  },
  {
   "cell_type": "code",
   "execution_count": null,
   "id": "f9304024-ee0c-4c98-9821-851273a72310",
   "metadata": {},
   "outputs": [],
   "source": [
    "columns = ['Open', 'High', 'Low', 'Close', 'Adj Close']\n",
    "\n",
    "plt.figure(figsize=(12, 6))\n",
    "sns.violinplot(data=df[columns], inner='quartile', palette='muted')\n",
    "\n",
    "plt.title('Violin Plot of Stock Prices')\n",
    "plt.xlabel('Variables')\n",
    "plt.ylabel('Price')\n",
    "plt.show()"
   ]
  },
  {
   "cell_type": "code",
   "execution_count": null,
   "id": "877a11c8-5bad-4407-83a6-fa5344847d9c",
   "metadata": {},
   "outputs": [],
   "source": [
    "columns = ['Open', 'High', 'Low', 'Close', 'Adj Close']\n",
    "\n",
    "# Criar o boxplot\n",
    "plt.figure(figsize=(14, 8))\n",
    "sns.boxplot(data=df[columns], palette='muted')\n",
    "\n",
    "# Adicionar título ao gráfico\n",
    "plt.title('Boxplot of Stock Prices')\n",
    "plt.xlabel('Variables')\n",
    "plt.ylabel('Price')\n",
    "plt.show()"
   ]
  },
  {
   "cell_type": "code",
   "execution_count": null,
   "id": "556134f4-b74f-49f9-8148-7c67f833f52a",
   "metadata": {},
   "outputs": [],
   "source": [
    "# Criar o boxplot para a variável 'Volume'\n",
    "plt.figure(figsize=(10, 6))\n",
    "sns.boxplot(x=df['Volume'], palette='muted')\n",
    "\n",
    "# Adicionar título ao gráfico\n",
    "plt.title('Boxplot of Trading Volume')\n",
    "plt.xlabel('Volume')\n",
    "plt.show()"
   ]
  },
  {
   "cell_type": "markdown",
   "id": "deedcd27-4336-41f9-baef-fab4800e7609",
   "metadata": {},
   "source": [
    "# Temporal Analysis"
   ]
  },
  {
   "cell_type": "code",
   "execution_count": null,
   "id": "d4d48665-7255-4f4b-b17f-a3185078caab",
   "metadata": {},
   "outputs": [],
   "source": [
    "df['Rolling Mean'] = df['Close'].rolling(window=30).mean()\n",
    "\n",
    "plt.figure(figsize=(14, 7))\n",
    "\n",
    "sns.lineplot(x=df['Date'], y=df['Close'], color='blue', label='Closing Price')\n",
    "\n",
    "sns.lineplot(x=df['Date'], y=df['Rolling Mean'], color='red', label='30-Day Rolling Mean')\n",
    "\n",
    "plt.title('Closing Price and 30-Day Rolling Mean')\n",
    "plt.xlabel('Date')\n",
    "plt.ylabel('Price')\n",
    "plt.legend()\n",
    "\n",
    "plt.show()"
   ]
  },
  {
   "cell_type": "code",
   "execution_count": null,
   "id": "2413b003-0844-4941-868e-1d90e0e2521d",
   "metadata": {},
   "outputs": [],
   "source": [
    "df_monthly = df.set_index('Date').resample('M').mean()\n",
    "\n",
    "plt.figure(figsize=(14, 7))\n",
    "sns.lineplot(x=df_monthly.index, y=df_monthly['Adj Close'], color='green', label='Monthly Average Adjusted Close Price')\n",
    "\n",
    "plt.title('Monthly Average of Adjusted Close Price')\n",
    "plt.xlabel('Date')\n",
    "plt.ylabel('Average Adjusted Close Price')\n",
    "plt.legend()\n",
    "plt.show()"
   ]
  },
  {
   "cell_type": "code",
   "execution_count": null,
   "id": "8d04b04e-a2d1-4242-8f32-b78e2c9587f2",
   "metadata": {},
   "outputs": [],
   "source": [
    "plt.figure(figsize=(14, 7))\n",
    "sns.lineplot(x=df['Date'], y=df['Volume'], color='orange', label='Volume')\n",
    "\n",
    "# Adicionar título e rótulos aos eixos\n",
    "plt.title('Trading Volume Over Time')\n",
    "plt.xlabel('Date')\n",
    "plt.ylabel('Volume')\n",
    "plt.legend()\n",
    "plt.show()\n"
   ]
  },
  {
   "cell_type": "code",
   "execution_count": null,
   "id": "bc158be8-7512-49d3-aab6-8e30bfbf20bb",
   "metadata": {},
   "outputs": [],
   "source": []
  }
 ],
 "metadata": {
  "kernelspec": {
   "display_name": "Python 3 (ipykernel)",
   "language": "python",
   "name": "python3"
  },
  "language_info": {
   "codemirror_mode": {
    "name": "ipython",
    "version": 3
   },
   "file_extension": ".py",
   "mimetype": "text/x-python",
   "name": "python",
   "nbconvert_exporter": "python",
   "pygments_lexer": "ipython3",
   "version": "3.12.4"
  }
 },
 "nbformat": 4,
 "nbformat_minor": 5
}
